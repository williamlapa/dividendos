{
 "cells": [
  {
   "cell_type": "markdown",
   "metadata": {},
   "source": [
    "Melhor VERSÃO"
   ]
  },
  {
   "cell_type": "code",
   "execution_count": 8,
   "metadata": {},
   "outputs": [
    {
     "name": "stdout",
     "output_type": "stream",
     "text": [
      "Colunas do arquivo isadora.xlsx: ['Produto', 'Pagamento', 'Tipo de Evento', 'Instituição', 'Quantidade', 'Preço unitário', 'Valor líquido']\n",
      "Arquivo salvo como proventos.xlsx\n"
     ]
    },
    {
     "name": "stderr",
     "output_type": "stream",
     "text": [
      "c:\\Users\\willi\\OneDrive\\Documentos\\Investimentos\\dividendos\\prov\\Lib\\site-packages\\openpyxl\\styles\\stylesheet.py:237: UserWarning: Workbook contains no default style, apply openpyxl's default\n",
      "  warn(\"Workbook contains no default style, apply openpyxl's default\")\n"
     ]
    }
   ],
   "source": [
    "import pandas as pd\n",
    "from datetime import datetime\n",
    "\n",
    "# Perguntar ao usuário qual é o tipo do arquivo\n",
    "opcao = input(\"Escolha o arquivo: 1 (Isadora), 2 (William Brasil) ou 3 (William Exterior): \").strip()\n",
    "\n",
    "# Caminho dos arquivos\n",
    "modelo_path = \"modelo.xlsx\"\n",
    "proventos_path = \"proventos.xlsx\"\n",
    "\n",
    "# Definir o caminho do arquivo a ser importado conforme a opção\n",
    "if opcao == \"1\":\n",
    "    arquivo_path = \"isadora.xlsx\"\n",
    "elif opcao == \"2\":\n",
    "    arquivo_path = \"william_brasil.xlsx\"\n",
    "elif opcao == \"3\":\n",
    "    arquivo_path = \"william_exterior.xlsx\"\n",
    "else:\n",
    "    print(\"Opção inválida. Por favor, escolha 1, 2 ou 3.\")\n",
    "    exit()\n",
    "\n",
    "# Ler os arquivos\n",
    "modelo_df = pd.read_excel(modelo_path)\n",
    "william_df = pd.read_excel(arquivo_path)\n",
    "\n",
    "# Imprimir as colunas do arquivo carregado para ver o nome exato\n",
    "print(f\"Colunas do arquivo {arquivo_path}: {william_df.columns.tolist()}\")\n",
    "\n",
    "# Criar um novo DataFrame com a estrutura do modelo\n",
    "proventos_df = pd.DataFrame(columns=modelo_df.columns)\n",
    "\n",
    "# Verificar se a coluna 'Previsão de pagamento' ou 'Pagamento' existe e importá-la como Data\n",
    "if 'Previsão de Pagamento' in william_df.columns:\n",
    "    proventos_df[\"Data\"] = pd.to_datetime(william_df[\"Previsão de Pagamento\"], format=\"%d/%m/%Y\", errors=\"coerce\")\n",
    "elif 'Pagamento' in william_df.columns:\n",
    "    proventos_df[\"Data\"] = pd.to_datetime(william_df[\"Pagamento\"], format=\"%d/%m/%Y\", errors=\"coerce\")\n",
    "else:\n",
    "    proventos_df[\"Data\"] = pd.NaT  # Se não houver, preencher com NaT (valor nulo de data)\n",
    "\n",
    "# Se não houver data, definir como 01/12 do ano atual\n",
    "data_padrao = datetime(datetime.now().year, 12, 1).strftime(\"%d/%m/%Y\")\n",
    "proventos_df[\"Data\"] = proventos_df[\"Data\"].apply(lambda x: x.strftime(\"%d/%m/%Y\") if pd.notna(x) else data_padrao)\n",
    "\n",
    "# Mapeamento de outras colunas\n",
    "proventos_df[\"Ativo\"] = william_df[\"Produto\"].str.split(\" - \").str[0]\n",
    "proventos_df[\"Associado\"] = proventos_df[\"Ativo\"]\n",
    "proventos_df[\"Qtde\"] = pd.to_numeric(william_df[\"Quantidade\"], errors=\"coerce\").fillna(0).astype(int)\n",
    "proventos_df[\"Preço Médio\"] = pd.to_numeric(william_df[\"Preço unitário\"], errors=\"coerce\").fillna(0)\n",
    "proventos_df[\"Valor\"] = william_df[\"Valor líquido\"].fillna(0)\n",
    "proventos_df[\"Strike\"] = None  # Não há correspondência direta\n",
    "proventos_df[\"Fluxo\"] = \"Entrada\"\n",
    "proventos_df[\"Estratégia1\"] = \"Proventos\"\n",
    "proventos_df[\"Estratégia2\"] = \"Ações\"\n",
    "proventos_df[\"Estratégia3\"] = \"Proventos\"  # Valor padrão para Estratégia3\n",
    "proventos_df[\"Tipo\"] = \"Proventos\"\n",
    "proventos_df[\"Geografia\"] = \"Nacional\"\n",
    "proventos_df[\"Operação\"] = \"Ações\"\n",
    "proventos_df[\"Corretora\"] = \"BTG\"\n",
    "\n",
    "# Ajuste para o caso de Isadora, William Brasil e William Exterior\n",
    "if opcao == \"1\":\n",
    "    proventos_df[\"Estratégia3\"] = \"Isadora\"\n",
    "elif opcao == \"2\":\n",
    "    proventos_df[\"Estratégia3\"] = \"Proventos\"  # Valor para William Brasil\n",
    "elif opcao == \"3\":\n",
    "    proventos_df[\"Estratégia3\"] = \"Proventos\"  # Valor para William Exterior\n",
    "    proventos_df[\"Geografia\"] = \"Exterior\"  # Alteração para William Exterior\n",
    "else:\n",
    "    print(\"Opção inválida. Por favor, escolha 1, 2 ou 3.\")\n",
    "    exit()\n",
    "\n",
    "# Remover linhas onde \"Ativo\" é vazio\n",
    "proventos_df = proventos_df[proventos_df[\"Ativo\"].notna() & (proventos_df[\"Ativo\"] != \"\")]\n",
    "\n",
    "# Salvar o novo arquivo\n",
    "proventos_df.to_excel(proventos_path, index=False)\n",
    "\n",
    "print(f\"Arquivo salvo como {proventos_path}\")"
   ]
  }
 ],
 "metadata": {
  "kernelspec": {
   "display_name": "prov",
   "language": "python",
   "name": "python3"
  },
  "language_info": {
   "codemirror_mode": {
    "name": "ipython",
    "version": 3
   },
   "file_extension": ".py",
   "mimetype": "text/x-python",
   "name": "python",
   "nbconvert_exporter": "python",
   "pygments_lexer": "ipython3",
   "version": "3.11.5"
  }
 },
 "nbformat": 4,
 "nbformat_minor": 2
}
